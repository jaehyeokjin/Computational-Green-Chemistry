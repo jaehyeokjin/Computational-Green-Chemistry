{
 "cells": [
  {
   "cell_type": "markdown",
   "metadata": {},
   "source": [
    "# Green Chemistry Toolkit: 1. Atom Economy Calculator\n",
    "\n",
    "## Principle 2: Atom Economy\n",
    "\n",
    "This tool calculates the **Atom Economy** of a chemical reaction, a concept developed by Barry Trost. It measures how efficiently reactant atoms are converted into the desired product, providing a theoretical measure of how little waste a reaction could generate.\n",
    "\n",
    "**The Goal:** Design reactions where the maximum number of atoms from the reactants end up in the final product.\n",
    "\n",
    "### Formula\n",
    "$$\\text{Atom Economy} = \\frac{\\text{Molecular Weight of Desired Product}}{\\sum \\text{Molecular Weights of All Reactants}} \\times 100\\%$$"
   ]
  },
  {
   "cell_type": "markdown",
   "metadata": {},
   "source": [
    "### How to Use This Calculator\n",
    "1.  **Install the required library:** Run the first code cell to install `molmass`.\n",
    "2.  **Define your reaction:** In the second code cell, modify the `product_formula` and `reactant_formulas` variables.\n",
    "3.  **Run the code:** Execute the cell to see the calculated Atom Economy and a summary of the molecular weights."
   ]
  },
  {
   "cell_type": "markdown",
   "metadata": {},
   "source": [
    "#### Step 1: Install the necessary library for molecular weight calculations\n",
    "`\n",
    "pip install molmass -q\n",
    "`"
   ]
  },
  {
   "cell_type": "code",
   "execution_count": 2,
   "metadata": {},
   "outputs": [
    {
     "name": "stdout",
     "output_type": "stream",
     "text": [
      "--- Atom Economy Calculation ---\n",
      "Reaction: C6H10O + C19H18P -> C7H12 + Byproducts\n",
      "------------------------------\n",
      "Desired Product: C7H12 (MW: 96.17 g/mol)\n",
      "\n",
      "Reactants:\n",
      "  - C6H10O: 98.14 g/mol\n",
      "  - C19H18P: 277.32 g/mol\n",
      "Total Reactant MW: 375.46 g/mol\n",
      "\n",
      "==============================\n",
      "Atom Economy: 25.61%\n",
      "==============================\n",
      "\n",
      "Interpretation: 25.61% of the mass of the reactants is incorporated into the desired product.\n"
     ]
    }
   ],
   "source": [
    "from molmass import Formula\n",
    "\n",
    "def calculate_atom_economy(product_formula: str, reactant_formulas: list):\n",
    "    \"\"\"\n",
    "    Calculates the atom economy for a given reaction based on chemical formulas.\n",
    "    \n",
    "    Args:\n",
    "        product_formula (str): The chemical formula of the desired product (e.g., 'C4H8O').\n",
    "        reactant_formulas (list): A list of formulas for all reactants (e.g., ['C3H6', 'H2O', 'CO']).\n",
    "    \n",
    "    Returns:\n",
    "        None. Prints the results directly.\n",
    "    \"\"\"\n",
    "    try:\n",
    "        # Calculate MW of the desired product\n",
    "        product = Formula(product_formula)\n",
    "        product_mw = product.mass\n",
    "\n",
    "        # Calculate the sum of MWs for all reactants\n",
    "        total_reactant_mw = 0\n",
    "        reactant_details = []\n",
    "        for formula_str in reactant_formulas:\n",
    "            reactant = Formula(formula_str)\n",
    "            reactant_mw = reactant.mass\n",
    "            reactant_details.append({'formula': formula_str, 'mw': reactant_mw})\n",
    "            total_reactant_mw += reactant_mw\n",
    "\n",
    "        if total_reactant_mw == 0:\n",
    "            print(\"Error: Total reactant mass cannot be zero.\")\n",
    "            return\n",
    "\n",
    "        # Calculate Atom Economy\n",
    "        atom_economy = (product_mw / total_reactant_mw) * 100\n",
    "\n",
    "        # --- Display Results ---\n",
    "        print(\"--- Atom Economy Calculation ---\")\n",
    "        print(f\"Reaction: {' + '.join(reactant_formulas)} -> {product_formula} + Byproducts\")\n",
    "        print(\"-\" * 30)\n",
    "        print(f\"Desired Product: {product.formula} (MW: {product_mw:.2f} g/mol)\")\n",
    "        print(\"\\nReactants:\")\n",
    "        for detail in reactant_details:\n",
    "            print(f\"  - {detail['formula']}: {detail['mw']:.2f} g/mol\")\n",
    "        print(f\"Total Reactant MW: {total_reactant_mw:.2f} g/mol\")\n",
    "        print(\"\\n\" + \"=\"*30)\n",
    "        print(f\"Atom Economy: {atom_economy:.2f}%\")\n",
    "        print(\"=\"*30)\n",
    "        print(f\"\\nInterpretation: {atom_economy:.2f}% of the mass of the reactants is incorporated into the desired product.\")\n",
    "\n",
    "    except Exception as e:\n",
    "        print(f\"An error occurred. Please check your chemical formulas. Error: {e}\")\n",
    "\n",
    "# --- Example: Wittig Reaction ---\n",
    "# Let's analyze the synthesis of methylenecyclohexane.\n",
    "# Reactants: Cyclohexanone (C6H10O) and Wittig Reagent (Ph3PCH2, formula C19H18P)\n",
    "# Product: Methylenecyclohexane (C7H12)\n",
    "# Byproduct: Triphenylphosphine oxide (Ph3PO, formula C18H15OP)\n",
    "\n",
    "product_formula = \"C7H12\" \n",
    "reactant_formulas = [\"C6H10O\", \"C19H18P\"]\n",
    "\n",
    "calculate_atom_economy(product_formula, reactant_formulas)"
   ]
  },
  {
   "cell_type": "markdown",
   "metadata": {},
   "source": [
    "## Conclusion & Interpretation\n",
    "The calculated Atom Economy of **25.61%** for this Wittig reaction is exceptionally low. This result provides a powerful lesson in green chemistry:\n",
    "\n",
    "1. **High Potential for Waste**: An atom economy of 25.61% means that, even if the reaction yield were a perfect 100%, **nearly 75% of the total mass of the reactants is converted into waste byproducts**, not the desired methylenecyclohexane.\n",
    "\n",
    "2. **Identifying the Source**: The primary reason for this inefficiency is the stoichiometric use of the Wittig reagent (`C19H18P`). After delivering a single carbon atom (`CH2`) to the final product, the rest of the reagent becomes the large, high-molecular-weight byproduct, triphenylphosphine oxide (`C18H15OP`).\n",
    "\n",
    "**Final Takeaway**: This example perfectly illustrates why Atom Economy is a fundamental metric for green chemistry. It immediately flags a synthesis as inherently wasteful and pushes chemists to ask critical questions: \"Can we design a catalytic reaction or use a different synthetic route that avoids generating such a massive byproduct?\" This metric forces us to think beyond just reaction yield and focus on the intrinsic efficiency of a chemical transformation.\n",
    "\n",
    "\n",
    "\n",
    "\n",
    "\n",
    "\n",
    "\n"
   ]
  },
  {
   "cell_type": "code",
   "execution_count": null,
   "metadata": {},
   "outputs": [],
   "source": []
  }
 ],
 "metadata": {
  "kernelspec": {
   "display_name": "Python 3 (ipykernel)",
   "language": "python",
   "name": "python3"
  },
  "language_info": {
   "codemirror_mode": {
    "name": "ipython",
    "version": 3
   },
   "file_extension": ".py",
   "mimetype": "text/x-python",
   "name": "python",
   "nbconvert_exporter": "python",
   "pygments_lexer": "ipython3",
   "version": "3.9.12"
  }
 },
 "nbformat": 4,
 "nbformat_minor": 4
}
