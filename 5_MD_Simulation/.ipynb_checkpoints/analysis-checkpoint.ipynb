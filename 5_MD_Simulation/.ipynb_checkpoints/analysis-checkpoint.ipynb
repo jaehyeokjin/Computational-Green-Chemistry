{
 "cells": [
  {
   "cell_type": "markdown",
   "metadata": {},
   "source": [
    "# Analysis: Comparing the Energy Efficiency of Solvents\n",
    "\n",
    "## Green Chemistry Principle #6: Design for Energy Efficiency\n",
    "\n",
    "**Objective:** This notebook analyzes the output from two separate LAMMPS molecular dynamics simulations to compare the energy required to heat Acetone and Dimethylformamide (DMF). By quantifying this energy input, we can make an informed, greener choice of solvent, directly applying Principle #6.\n",
    "\n",
    "### Workflow:\n",
    "1.  **Run Simulations:** This notebook assumes you have already run the two separate heating simulations using the provided input and data files (`in.acetone.lammps`, `data.acetone`, `in.dmf.lammps`, `data.dmf`).\n",
    "2.  **Parse Log Files:** We will parse the thermodynamic data from the output log files (`log.acetone` and `log.dmf`).\n",
    "3.  **Plot Results:** The temperature vs. simulation time for both solvents will be plotted on the same graph to visually compare their heating profiles.\n",
    "4.  **Analyze & Conclude:** We will calculate the total energy required for the temperature change and conclude which solvent is more energy-efficient."
   ]
  },
  {
   "cell_type": "code",
   "execution_count": null,
   "metadata": {},
   "outputs": [],
   "source": [
    "import numpy as np\n",
    "import matplotlib.pyplot as plt\n",
    "\n",
    "print(\"Libraries imported successfully!\")"
   ]
  },
  {
   "cell_type": "markdown",
   "metadata": {},
   "source": [
    "### Step 1: Create a Function to Parse LAMMPS Log Files\n",
    "\n",
    "This function will read a LAMMPS log file, find the thermodynamic output, and extract the columns for Time, Temperature, and Total Energy."
   ]
  },
  {
   "cell_type": "code",
   "execution_count": null,
   "metadata": {},
   "outputs": [],
   "source": [
    "def parse_lammps_log(filepath):\n",
    "    \"\"\"\n",
    "    Parses a LAMMPS log file to extract thermo data.\n",
    "    \n",
    "    Args:\n",
    "        filepath (str): The path to the LAMMPS log file.\n",
    "        \n",
    "    Returns:\n",
    "        A dictionary containing numpy arrays for 'time', 'temp', and 'total_energy'.\n",
    "    \"\"\"\n",
    "    with open(filepath, 'r') as f:\n",
    "        lines = f.readlines()\n",
    "    \n",
    "    # Find the start and end of the thermo data block for the heating run\n",
    "    start_index = -1\n",
    "    end_index = -1\n",
    "    \n",
    "    for i, line in enumerate(lines):\n",
    "        if 'Step Temp TotEng' in line:\n",
    "            start_index = i + 1 # Data starts on the next line\n",
    "        if start_index != -1 and 'Loop time' in line:\n",
    "            end_index = i\n",
    "            break\n",
    "            \n",
    "    if start_index == -1 or end_index == -1:\n",
    "        raise ValueError(f\"Could not find thermo data block in {filepath}\")\n",
    "        \n",
    "    # Extract data\n",
    "    data_lines = lines[start_index:end_index]\n",
    "    data = np.loadtxt(data_lines)\n",
    "    \n",
    "    # LAMMPS timestep is 1 fs. Time in ps = Step * 0.001\n",
    "    time_ps = data[:, 0] * 0.001\n",
    "    \n",
    "    return {\n",
    "        'time': time_ps,\n",
    "        'temp': data[:, 1],\n",
    "        'total_energy': data[:, 2]\n",
    "    }"
   ]
  },
  {
   "cell_type": "markdown",
   "metadata": {},
   "source": [
    "### Step 2: Load Data for Both Solvents\n",
    "\n",
    "Now we use the function to load the results from `log.acetone` and `log.dmf`. Make sure these files are in the same directory as this notebook."
   ]
  },
  {
   "cell_type": "code",
   "execution_count": null,
   "metadata": {},
   "outputs": [],
   "source": [
    "try:\n",
    "    acetone_data = parse_lammps_log('log.acetone')\n",
    "    dmf_data = parse_lammps_log('log.dmf')\n",
    "    print(\"Successfully loaded data for Acetone and DMF.\")\n",
    "except FileNotFoundError as e:\n",
    "    print(f\"ERROR: {e}\")\n",
    "    print(\"Please make sure 'log.acetone' and 'log.dmf' are in the same folder as this notebook.\")\n",
    "except ValueError as e:\n",
    "    print(f\"ERROR parsing file: {e}\")"
   ]
  },
  {
   "cell_type": "markdown",
   "metadata": {},
   "source": [
    "### Step 3: Plot the Heating Profiles\n",
    "\n",
    "A visual comparison clearly shows how the temperature of each system evolves over time as energy is added. A steeper slope indicates that less simulation time (and therefore less energy) is required to increase the temperature."
   ]
  },
  {
   "cell_type": "code",
   "execution_count": null,
   "metadata": {},
   "outputs": [],
   "source": [
    "# Set up the plot\n",
    "plt.style.use('seaborn-v0_8-whitegrid')\n",
    "fig, ax = plt.subplots(figsize=(10, 6))\n",
    "\n",
    "# Plot Acetone data\n",
    "ax.plot(acetone_data['time'], acetone_data['temp'], marker='o', linestyle='-', color='crimson', label='Acetone (BP: 56 °C)')\n",
    "\n",
    "# Plot DMF data\n",
    "ax.plot(dmf_data['time'], dmf_data['temp'], marker='s', linestyle='--', color='navy', label='DMF (BP: 153 °C)')\n",
    "\n",
    "# Formatting\n",
    "ax.set_title('Solvent Heating Profile Comparison', fontsize=16, fontweight='bold')\n",
    "ax.set_xlabel('Simulation Time (ps)', fontsize=12)\n",
    "ax.set_ylabel('System Temperature (K)', fontsize=12)\n",
    "ax.legend(fontsize=12)\n",
    "ax.tick_params(axis='both', which='major', labelsize=10)\n",
    "ax.set_xlim(left=0)\n",
    "\n",
    "# Show the plot\n",
    "plt.show()"
   ]
  },
  {
   "cell_type": "markdown",
   "metadata": {},
   "source": [
    "### Step 4: Quantitative Analysis and Conclusion\n",
    "\n",
    "Let's quantify the total energy change for each solvent during the heating process. The simulation adds energy at a constant rate, so the total energy change (`ΔE_total`) is a direct measure of the energy input required to achieve the final temperature."
   ]
  },
  {
   "cell_type": "code",
   "execution_count": null,
   "metadata": {},
   "outputs": [],
   "source": [
    "# Calculate the change in total energy for each system\n",
    "acetone_energy_change = acetone_data['total_energy'][-1] - acetone_data['total_energy'][0]\n",
    "dmf_energy_change = dmf_data['total_energy'][-1] - dmf_data['total_energy'][0]\n",
    "\n",
    "# Calculate the change in temperature\n",
    "acetone_temp_change = acetone_data['temp'][-1] - acetone_data['temp'][0]\n",
    "dmf_temp_change = dmf_data['temp'][-1] - dmf_data['temp'][0]\n",
    "\n",
    "print(\"--- QUANTITATIVE ANALYSIS ---\")\n",
    "print(f\"Acetone: Temperature increased by {acetone_temp_change:.2f} K\")\n",
    "print(f\"         Required Energy Input = {acetone_energy_change:.2f} kcal/mol\\n\")\n",
    "\n",
    "print(f\"DMF:     Temperature increased by {dmf_temp_change:.2f} K\")\n",
    "print(f\"         Required Energy Input = {dmf_energy_change:.2f} kcal/mol\")"
   ]
  },
  {
   "cell_type": "markdown",
   "metadata": {},
   "source": [
    "### Conclusion\n",
    "\n",
    "\n",
    "The results clearly demonstrate **Principle #6: Design for Energy Efficiency**.\n",
    "\n",
    "1.  **Visual Evidence:** The plot shows that the temperature of **acetone rises much more steeply** than the temperature of DMF. This indicates that acetone requires less time (and thus less energy) to heat up.\n",
    "\n",
    "2.  **Quantitative Evidence:** Our calculations show that raising the temperature by ~100 K required **significantly less energy input for acetone** compared to DMF. This is because DMF's stronger intermolecular forces (dipole-dipole interactions) and larger molecular size mean more energy must be added to increase the kinetic energy of its molecules.\n",
    "\n",
    "**Therefore, from a process heating perspective, acetone is the demonstrably greener and more energy-efficient choice.** This type of predictive analysis allows chemists to minimize energy consumption by making informed solvent selections before ever running a reaction in the lab."
   ]
  }
 ],
 "metadata": {
  "kernelspec": {
   "display_name": "Python 3",
   "language": "python",
   "name": "python3"
  },
  "language_info": {
   "codemirror_mode": {
    "name": "ipython",
    "version": 3
   },
   "file_extension": ".py",
   "mimetype": "text/x-python",
   "name": "python",
   "nbconvert_exporter": "python",
   "pygments_lexer": "ipython3",
   "version": "3.9.7"
  }
 },
 "nbformat": 4,
 "nbformat_minor": 2
}


