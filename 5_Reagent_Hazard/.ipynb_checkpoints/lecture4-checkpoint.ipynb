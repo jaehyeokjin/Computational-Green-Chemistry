{
 "cells": [
  {
   "cell_type": "markdown",
   "metadata": {},
   "source": [
    "# Green Chemistry Toolkit: 4. A Simple Solvent Selection Guide\n",
    "\n",
    "## Principle 5: Safer Solvents and Auxiliaries\n",
    "\n",
    "Solvents account for the vast majority of mass in a typical chemical reaction and are a primary driver of its environmental impact. Choosing a safer, more sustainable solvent is one of the most effective ways to make a process greener.\n",
    "\n",
    "**The Goal:** Minimize the use of auxiliary substances (like solvents). When they are necessary, choose the safest and most environmentally benign options available.\n",
    "\n",
    "### How This Tool Works\n",
    "\n",
    "This guide uses a simplified scoring system inspired by industrial solvent selection guides (like those from GSK and Sanofi). It ranks common lab solvents across three categories:\n",
    "1.  **Safety:** Flammability, reactivity, etc.\n",
    "2.  **Health:** Toxicity, carcinogenicity, etc.\n",
    "3.  **Environment:** Persistence, aquatic toxicity, VOC potential.\n",
    "\n",
    "Scores are on a scale of 1 (worst) to 10 (best). A higher **Overall Score** indicates a greener choice."
   ]
  },
  {
   "cell_type": "markdown",
   "metadata": {},
   "source": [
    "### Code Explanation\n",
    "\n",
    "The Python code below automates the ranking process using the `pandas` library, a standard tool for data analysis.\n",
    "\n",
    "1.  **Data Storage:** The scores for each solvent are stored in a Python dictionary called `solvent_data`.\n",
    "2.  **DataFrame Creation:** `pandas` is used to convert this dictionary into a structured table (a DataFrame), which is easy to manipulate.\n",
    "3.  **Calculation:** A new 'Overall Score' column is calculated by taking the average of the 'Safety', 'Health', and 'Env.' columns for each solvent.\n",
    "4.  **Ranking:** The table is then sorted by this 'Overall Score' from highest to lowest to create the final ranking.\n",
    "5.  **Formatting:** A helper function, `color_score`, is used to add ANSI color codes to the output. This makes the final table more intuitive by visually highlighting the green, yellow, and red categories, allowing for a quick and clear assessment."
   ]
  },
  {
   "cell_type": "code",
   "execution_count": null,
   "metadata": {},
   "outputs": [],
   "source": [
    "import pandas as pd\n",
    "\n",
    "# Data based on simplified and aggregated data from various solvent selection guides.\n",
    "# This is for educational purposes and is not an exhaustive safety database.\n",
    "solvent_data = {\n",
    "    'Solvent': ['Water', 'Ethanol', 'Acetone', 'Isopropanol', 'Heptane', 'Toluene', 'Acetonitrile', 'Dichloromethane (DCM)', 'Chloroform', 'Dimethylformamide (DMF)'],\n",
    "    'Safety':  [10, 7, 7, 7, 4, 4, 5, 6, 4, 3], # Flammability, reactivity\n",
    "    'Health':  [10, 8, 7, 7, 6, 3, 4, 3, 2, 2], # Toxicity, carcinogenicity\n",
    "    'Env.':    [10, 8, 5, 7, 4, 3, 3, 2, 1, 2]  # VOC, persistence, aquatic toxicity\n",
    "}\n",
    "\n",
    "df = pd.DataFrame(solvent_data)\n",
    "\n",
    "# Calculate the overall score as the average of the three categories\n",
    "df['Overall Score'] = df[['Safety', 'Health', 'Env.']].mean(axis=1)\n",
    "\n",
    "# Sort the dataframe by the overall score in descending order\n",
    "df_sorted = df.sort_values(by='Overall Score', ascending=False).reset_index(drop=True)\n",
    "\n",
    "def recommend_solvents():\n",
    "    \"\"\"Displays a ranked list of solvents based on their green chemistry score.\"\"\"\n",
    "    print(\"--- Green Solvent Selection Guide ---\")\n",
    "    print(\"Scores are from 1 (worst) to 10 (best). Higher overall score is better.\\n\")\n",
    "    \n",
    "    # Simple color coding for display\n",
    "    def color_score(score):\n",
    "        if score >= 7: return f'\\033[92m{score:.1f}\\033[0m' # Green\n",
    "        if score >= 4: return f'\\033[93m{score:.1f}\\033[0m' # Yellow\n",
    "        return f'\\033[91m{score:.1f}\\033[0m' # Red\n",
    "    \n",
    "    # Format and print the dataframe\n",
    "    display_df = df_sorted.copy()\n",
    "    for col in ['Safety', 'Health', 'Env.', 'Overall Score']:\n",
    "        display_df[col] = display_df[col].apply(color_score)\n",
    "        \n",
    "    print(display_df.to_string())\n",
    "    print(\"\\n\\033[92mGreen: Generally recommended\\033[0m\")\n",
    "    print(\"\\033[93mYellow: Use with caution, improvement is possible\\033[0m\")\n",
    "    print(\"\\033[91mRed: Problematic, seek alternatives\\033[0m\")\n",
    "\n",
    "# --- Run the tool ---\n",
    "recommend_solvents()"
   ]
  },
  {
   "cell_type": "markdown",
   "metadata": {},
   "source": [
    "### Conclusion & Interpretation\n",
    "\n",
    "\n",
    "\n",
    "The output of the Solvent Selection Guide provides a clear, data-driven hierarchy for making greener chemical choices.\n",
    "\n",
    "1.  **The \"Green\" Tier:** Unsurprisingly, **Water** is the ideal green solvent with a perfect score. **Ethanol** and **Isopropanol** are also highly recommended, scoring well across all categories. These solvents are generally preferred as they are less toxic, derived from renewable resources (bio-ethanol), and have a lower environmental impact.\n",
    "\n",
    "2.  **The \"Yellow\" Tier:** Solvents like **Acetone** and **Heptane** fall into a cautionary middle ground. While acetone has favorable health and safety scores, its environmental score is lower due to its high volatility (VOC potential). Heptane is a classic example of a trade-off: it has moderate health and environmental concerns but a poor safety score due to its high flammability. This tier highlights that solvent choice is often about balancing competing factors.\n",
    "\n",
    "3.  **The \"Red\" Tier:** The guide strongly discourages the use of solvents at the bottom of the list. **Dichloromethane (DCM)** and **Chloroform** are flagged for significant health risks (suspected carcinogens), and Chloroform is particularly damaging to the environment. **Toluene** and **Dimethylformamide (DMF)** are also problematic due to their reproductive toxicity and other health hazards.\n",
    "\n",
    "**Final Takeaway:** This simple computational tool empowers chemists to move beyond habit and make proactive, evidence-based decisions. By consulting a guide like this at the planning stage of an experiment, a researcher can easily identify and avoid the most problematic solvents, leading to inherently safer and more sustainable chemistry."
   ]
  }
 ],
 "metadata": {
  "kernelspec": {
   "display_name": "Python 3 (ipykernel)",
   "language": "python",
   "name": "python3"
  },
  "language_info": {
   "codemirror_mode": {
    "name": "ipython",
    "version": 3
   },
   "file_extension": ".py",
   "mimetype": "text/x-python",
   "name": "python",
   "nbconvert_exporter": "python",
   "pygments_lexer": "ipython3",
   "version": "3.9.12"
  }
 },
 "nbformat": 4,
 "nbformat_minor": 4
}
