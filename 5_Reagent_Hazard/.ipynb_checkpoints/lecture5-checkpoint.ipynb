{
 "cells": [
  {
   "cell_type": "markdown",
   "metadata": {},
   "source": [
    "# Green Chemistry Lecture: 5. Reagent Hazard Assessment Tool\n",
    "\n",
    "## Principle 3: Design for Less Hazardous Chemical Syntheses\n",
    "\n",
    "Whenever practicable, synthetic methods should be designed to use and generate substances that possess little or no toxicity to human health and the environment.\n",
    "\n",
    "**The Goal:** Before starting a reaction, evaluate the intrinsic hazards of the chemicals you plan to use. This tool helps you compare different synthetic routes by scoring the hazards of their reagents.\n",
    "\n",
    "### How This Tool Works\n",
    "\n",
    "This tool uses the Globally Harmonized System (GHS) of Classification and Labelling of Chemicals. Each GHS pictogram is assigned a hazard score. The tool sums the scores for all reagents in a proposed reaction to give a **Total Hazard Score**. A lower score indicates a safer process.\n",
    "\n",
    "**This is an educational simplification.** A full risk assessment considers exposure, concentration, and reaction conditions. This tool focuses only on the *inherent hazard* of the starting materials."
   ]
  },
  {
   "cell_type": "markdown",
   "metadata": {},
   "source": [
    "### Code Explanation\n",
    "\n",
    "The Python code below is structured to be a simple, reusable tool for hazard comparison.\n",
    "\n",
    "1.  **Hazard Database:** A Python dictionary, `GHS_HAZARDS`, acts as a simple database, mapping each GHS pictogram to a numerical hazard score.\n",
    "2.  **Assessment Function:** The `assess_reagent_hazards` function takes a list of reagents (as a dictionary) as input. It iterates through each reagent, looks up the scores for its associated pictograms in the `GHS_HAZARDS` database, and calculates a sub-total for that chemical. \n",
    "3.  **Route Comparison:** The code then defines the reagents for two different synthetic routes to the same product (in this case, the oxidation of benzyl alcohol). It calls the assessment function on each route to calculate and print a **Total Route Hazard Score**.\n",
    "4.  **Output:** The final output is a side-by-side comparison of the two routes, allowing for a direct, quantitative assessment of which process uses inherently safer materials."
   ]
  },
  {
   "cell_type": "code",
   "execution_count": 2,
   "metadata": {},
   "outputs": [
    {
     "name": "stdout",
     "output_type": "stream",
     "text": [
      "### Route 1: Oxidation using Potassium Dichromate ###\n",
      "--- Reagent Hazard Assessment ---\n",
      "- Benzyl Alcohol           : Score = 0   (Hazards: Exclamation Mark, Health Hazard)\n",
      "- Potassium Dichromate     : Score = 32  (Hazards: Flame Over Circle (Oxidizer), Corrosion, Skull and Crossbones (Acute Toxicity), Health Hazard, Environment (Aquatic Toxicity))\n",
      "- Sulfuric Acid            : Score = 7   (Hazards: Corrosion)\n",
      "\n",
      "===================================\n",
      "Total Route Hazard Score: 39\n",
      "===================================\n",
      "\n",
      "Interpretation: Compare this score to alternative synthetic routes. A lower score is better.\n",
      "\n",
      "--------------------------------------------------\n",
      "\n",
      "### Route 2: Catalytic Oxidation using Oxygen ###\n",
      "--- Reagent Hazard Assessment ---\n",
      "- Benzyl Alcohol           : Score = 0   (Hazards: Exclamation Mark, Health Hazard)\n",
      "- Oxygen                   : Score = 14  (Hazards: Flame Over Circle (Oxidizer), Gas Cylinder)\n",
      "- Palladium Catalyst       : Score = 0 (No significant hazards listed)\n",
      "\n",
      "===================================\n",
      "Total Route Hazard Score: 14\n",
      "===================================\n",
      "\n",
      "Interpretation: Compare this score to alternative synthetic routes. A lower score is better.\n"
     ]
    }
   ],
   "source": [
    "# GHS Pictograms and their simplified hazard scores\n",
    "# Higher score = more severe hazard\n",
    "GHS_HAZARDS = {\n",
    "    \"Exploding Bomb\": 10,\n",
    "    \"Flame\": 8,\n",
    "    \"Flame Over Circle (Oxidizer)\": 8,\n",
    "    \"Corrosion\": 7,\n",
    "    \"Skull and Crossbones (Acute Toxicity)\": 10,\n",
    "    \"Health Hazard (Carcinogen/Mutagen)\": 9,\n",
    "    \"Exclamation Mark (Irritant)\": 5,\n",
    "    \"Gas Cylinder\": 6,\n",
    "    \"Environment (Aquatic Toxicity)\": 7,\n",
    "    \"No Pictogram\": 0\n",
    "}\n",
    "\n",
    "def assess_reagent_hazards(reagents: dict):\n",
    "    \"\"\"\n",
    "    Calculates a total hazard score for a list of reagents based on their GHS pictograms.\n",
    "    \n",
    "    Args:\n",
    "        reagents (dict): A dictionary where keys are reagent names and values are a list\n",
    "                         of their GHS pictograms.\n",
    "    \n",
    "    Returns:\n",
    "        None. Prints the assessment.\n",
    "    \"\"\"\n",
    "    total_hazard_score = 0\n",
    "    \n",
    "    print(\"--- Reagent Hazard Assessment ---\")\n",
    "    for reagent, pictograms in reagents.items():\n",
    "        reagent_score = 0\n",
    "        if not pictograms or \"No Pictogram\" in pictograms:\n",
    "            print(f\"- {reagent:<25}: Score = 0 (No significant hazards listed)\")\n",
    "            continue\n",
    "            \n",
    "        for pictogram in pictograms:\n",
    "            reagent_score += GHS_HAZARDS.get(pictogram, 0)\n",
    "        \n",
    "        print(f\"- {reagent:<25}: Score = {reagent_score:<3} (Hazards: {', '.join(pictograms)})\")\n",
    "        total_hazard_score += reagent_score\n",
    "    \n",
    "    print(\"\\n\" + \"=\"*35)\n",
    "    print(f\"Total Route Hazard Score: {total_hazard_score}\")\n",
    "    print(\"=\"*35)\n",
    "    print(\"\\nInterpretation: Compare this score to alternative synthetic routes. A lower score is better.\")\n",
    "\n",
    "# --- Example: Comparing two routes for an oxidation reaction ---\n",
    "\n",
    "print(\"### Route 1: Oxidation using Potassium Dichromate ###\")\n",
    "route_1_reagents = {\n",
    "    \"Benzyl Alcohol\": [\"Exclamation Mark\", \"Health Hazard\"],\n",
    "    \"Potassium Dichromate\": [\"Flame Over Circle (Oxidizer)\", \"Corrosion\", \"Skull and Crossbones (Acute Toxicity)\", \"Health Hazard\", \"Environment (Aquatic Toxicity)\"],\n",
    "    \"Sulfuric Acid\": [\"Corrosion\"]\n",
    "}\n",
    "assess_reagent_hazards(route_1_reagents)\n",
    "\n",
    "print(\"\\n\" + \"-\"*50 + \"\\n\")\n",
    "\n",
    "print(\"### Route 2: Catalytic Oxidation using Oxygen ###\")\n",
    "route_2_reagents = {\n",
    "    \"Benzyl Alcohol\": [\"Exclamation Mark\", \"Health Hazard\"],\n",
    "    \"Oxygen\": [\"Flame Over Circle (Oxidizer)\", \"Gas Cylinder\"],\n",
    "    \"Palladium Catalyst\": [\"No Pictogram\"]\n",
    "}\n",
    "assess_reagent_hazards(route_2_reagents)\n"
   ]
  },
  {
   "cell_type": "markdown",
   "metadata": {},
   "source": [
    "### Conclusion & Interpretation\n",
    "\n",
    "\n",
    "\n",
    "The hazard assessment tool provides a clear, quantitative comparison between the two synthetic routes, directly addressing **Principle 3: Design for Less Hazardous Chemical Syntheses**.\n",
    "\n",
    "1.  **Route 1 (Dichromate Oxidation):** This traditional method has a **Total Route Hazard Score of 39**. The score is dominated by Potassium Dichromate, a single reagent that carries severe warnings for being an oxidizer, corrosive, acutely toxic, a long-term health hazard (carcinogen), and an environmental toxin. This is a classic example of a highly hazardous but effective reagent.\n",
    "\n",
    "2.  **Route 2 (Catalytic Oxidation):** The modern, catalytic approach has a **Total Route Hazard Score of 14**. The hazards in this route are primarily associated with the gaseous nature of oxygen (oxidizer, compressed gas). Crucially, this route eliminates the need for the highly toxic and environmentally damaging heavy metal reagent.\n",
    "\n",
    "**Final Takeaway:** Based on this analysis of inherent reagent hazards, **Route 2 is the unequivocally greener and safer choice**, with a hazard score that is nearly **three times lower** than the traditional method. This tool effectively demonstrates the green chemistry goal of replacing hazardous stoichiometric reagents with safer, more benign catalytic alternatives whenever possible."
   ]
  },
  {
   "cell_type": "code",
   "execution_count": null,
   "metadata": {},
   "outputs": [],
   "source": []
  }
 ],
 "metadata": {
  "kernelspec": {
   "display_name": "Python 3 (ipykernel)",
   "language": "python",
   "name": "python3"
  },
  "language_info": {
   "codemirror_mode": {
    "name": "ipython",
    "version": 3
   },
   "file_extension": ".py",
   "mimetype": "text/x-python",
   "name": "python",
   "nbconvert_exporter": "python",
   "pygments_lexer": "ipython3",
   "version": "3.9.12"
  }
 },
 "nbformat": 4,
 "nbformat_minor": 4
}
