{
 "cells": [
  {
   "cell_type": "markdown",
   "metadata": {},
   "source": [
    "# Green Chemistry Toolkit: 2. E-Factor (Environmental Factor) Calculator\n",
    "\n",
    "## Principle 1: Waste Prevention\n",
    "\n",
    "The **E-Factor**, developed by Roger Sheldon, moves beyond theoretical yield to quantify the *actual* amount of waste generated in a process. It is a simple, powerful metric that helps chemists see the true environmental impact of their work.\n",
    "\n",
    "**The Goal:** Minimize the E-Factor. An ideal E-Factor is 0, meaning no waste is produced.\n",
    "\n",
    "### Formula\n",
    "$$\\text{E-Factor} = \\frac{\\text{Total Mass of Waste (kg)}}{\\text{Mass of Product (kg)}}$$"
   ]
  },
  {
   "cell_type": "markdown",
   "metadata": {},
   "source": [
    "### What Counts as Waste?\n",
    "\n",
    "Everything that isn't the final, desired product:\n",
    "-   Reaction byproducts\n",
    "-   Unreacted starting materials\n",
    "-   Solvents that are not recycled\n",
    "-   Catalysts that are not recovered\n",
    "-   Workup materials (e.g., drying agents, materials from chromatography)\n",
    "\n",
    "**Note:** Water is often excluded from the calculation, but this can be debated, especially if the water becomes heavily contaminated and requires treatment."
   ]
  },
  {
   "cell_type": "markdown",
   "metadata": {},
   "source": [
    "### Example: A Typical Lab-Scale Synthesis\n",
    "\n",
    "To see the E-Factor in action, we'll model a common scenario in a research lab. Often, only a small amount of product (a few grams) is needed, but this requires significantly more mass in solvents and purification materials.\n",
    "\n",
    "* **Inputs:** We define the mass of two reactants, a solvent, and a general category for \"workup materials\" (which includes things like solutions for extraction, drying agents, and silica gel for chromatography).\n",
    "* **Output:** We define the actual, measured mass of the final product after it has been isolated and purified.\n",
    "\n",
    "### Code Explanation\n",
    "\n",
    "The Python code below provides a straightforward function to calculate the E-Factor from these practical numbers:\n",
    "\n",
    "1.  **Function Definition:** The `calculate_e_factor` function takes the `product_mass` and the `total_input_mass` as arguments.\n",
    "2.  **Waste Calculation:** It calculates the `waste_mass` by simply subtracting the mass of the product from the total mass of all inputs.\n",
    "3.  **E-Factor Calculation:** It then applies the E-Factor formula by dividing the waste mass by the product mass.\n",
    "4.  **Output:** The function prints a clear, formatted summary of all the components and the final E-Factor score."
   ]
  },
  {
   "cell_type": "code",
   "execution_count": 1,
   "metadata": {},
   "outputs": [
    {
     "name": "stdout",
     "output_type": "stream",
     "text": [
      "--- E-Factor Calculation ---\n",
      "Mass of Isolated Product: 0.009 kg\n",
      "Total Mass of All Inputs: 0.275 kg\n",
      "Calculated Mass of Waste: 0.267 kg\n",
      "\n",
      "==============================\n",
      "E-Factor: 31.35\n",
      "==============================\n",
      "\n",
      "Interpretation: For every 1 kg of product, 31.35 kg of waste is generated.\n"
     ]
    }
   ],
   "source": [
    "def calculate_e_factor(product_mass: float, total_input_mass: float):\n",
    "    \"\"\"\n",
    "    Calculates the E-Factor for a chemical process.\n",
    "    \n",
    "    Args:\n",
    "        product_mass (float): The actual isolated mass of the desired product (in kg).\n",
    "        total_input_mass (float): The total mass of all materials put into the process (in kg),\n",
    "                                  including reactants, solvents, catalysts, and workup chemicals.\n",
    "    \n",
    "    Returns:\n",
    "        None. Prints the results directly.\n",
    "    \"\"\"\n",
    "    if product_mass <= 0:\n",
    "        print(\"Error: Product mass must be greater than zero.\")\n",
    "        return\n",
    "\n",
    "    waste_mass = total_input_mass - product_mass\n",
    "    \n",
    "    if waste_mass < 0:\n",
    "        print(\"Error: Waste mass cannot be negative. Total input mass must be >= product mass.\")\n",
    "        return\n",
    "        \n",
    "    e_factor = waste_mass / product_mass\n",
    "\n",
    "    # --- Display Results ---\n",
    "    print(\"--- E-Factor Calculation ---\")\n",
    "    print(f\"Mass of Isolated Product: {product_mass:.3f} kg\")\n",
    "    print(f\"Total Mass of All Inputs: {total_input_mass:.3f} kg\")\n",
    "    print(f\"Calculated Mass of Waste: {waste_mass:.3f} kg\")\n",
    "    print(\"\\n\" + \"=\"*30)\n",
    "    print(f\"E-Factor: {e_factor:.2f}\")\n",
    "    print(\"=\"*30)\n",
    "    print(f\"\\nInterpretation: For every 1 kg of product, {e_factor:.2f} kg of waste is generated.\")\n",
    "\n",
    "# --- Example: A typical lab-scale synthesis ---\n",
    "# Let's imagine a reaction where we expect to make 10g of product.\n",
    "\n",
    "# Inputs:\n",
    "reactant_A_mass = 0.015 # 15g\n",
    "reactant_B_mass = 0.010 # 10g\n",
    "solvent_mass = 0.200    # 200g (e.g., ~250 mL of Toluene)\n",
    "workup_mass = 0.050     # 50g of aqueous solution, drying agent, silica gel, etc.\n",
    "\n",
    "# Total mass going into the process\n",
    "total_inputs = reactant_A_mass + reactant_B_mass + solvent_mass + workup_mass\n",
    "\n",
    "# Output:\n",
    "# After purification, we isolate 8.5g of our desired product.\n",
    "isolated_product_mass = 0.0085 # 8.5g\n",
    "\n",
    "calculate_e_factor(product_mass=isolated_product_mass, total_input_mass=total_inputs)"
   ]
  },
  {
   "cell_type": "markdown",
   "metadata": {},
   "source": [
    "### Conclusion & Interpretation\n",
    "The calculated **E-Factor of 31.35** is a stark and realistic representation of waste in a typical lab-scale synthesis.\n",
    "\n",
    "1. **The Scale of the Waste**: An E-Factor of 31.35 means that for every 1 kilogram of desired product we make, we generate over 31 kilograms of waste. This highlights that the vast majority of material put into the process does not end up in the final product.\n",
    "\n",
    "2. **Identifying the Primary Culprit**: In this example, the solvent is the single largest contributor to the waste stream, accounting for the majority of the input mass. Workup materials are the second-largest source. This is very common in fine chemical and pharmaceutical synthesis. While an E-Factor in the range of 5-50 is typical for this sector, it presents a clear target for improvement.\n",
    "\n",
    "3. **Pathways for Improvement**: Unlike the theoretical Atom Economy, the E-Factor is a practical metric that points directly to areas for process optimization. To lower this E-Factor, a chemist would focus on:\n",
    "- **Solvent Reduction**: Can the reaction be run more efficiently at a higher concentration?\n",
    "- **Solvent Recycling**: Can the solvent be recovered via distillation and reused?\n",
    "- **Optimizing the Workup**: Can a different purification method (like crystallization instead of chromatography) reduce the amount of silica gel and solvent needed?\n",
    "\n",
    "**Final Takeaway**: The E-Factor provides a crucial dose of reality. It forces us to confront the material inefficiency of our processes and demonstrates that the biggest opportunities for \"greening\" a reaction often lie not in the reaction itself, but in minimizing the use of auxiliary substances like solvents and purification media."
   ]
  },
  {
   "cell_type": "code",
   "execution_count": null,
   "metadata": {},
   "outputs": [],
   "source": []
  }
 ],
 "metadata": {
  "kernelspec": {
   "display_name": "Python 3 (ipykernel)",
   "language": "python",
   "name": "python3"
  },
  "language_info": {
   "codemirror_mode": {
    "name": "ipython",
    "version": 3
   },
   "file_extension": ".py",
   "mimetype": "text/x-python",
   "name": "python",
   "nbconvert_exporter": "python",
   "pygments_lexer": "ipython3",
   "version": "3.9.12"
  }
 },
 "nbformat": 4,
 "nbformat_minor": 4
}
