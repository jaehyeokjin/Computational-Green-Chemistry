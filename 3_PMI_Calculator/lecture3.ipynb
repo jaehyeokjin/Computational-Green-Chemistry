{
 "cells": [
  {
   "cell_type": "markdown",
   "metadata": {},
   "source": [
    "# Green Chemistry Lecture: 3. Process Mass Intensity (PMI) Calculator\n",
    "\n",
    "## Principle 1: Waste Prevention & Systems Thinking\n",
    "\n",
    "**Process Mass Intensity (PMI)** is a comprehensive metric championed by the ACS Green Chemistry Institute Pharmaceutical Roundtable. It evaluates the efficiency of the *entire process* by comparing the total mass of all materials used to the mass of the final product.\n",
    "\n",
    "**The Goal:** Minimize PMI. An ideal PMI is 1, meaning only the reactants' mass contributes to the product's mass, with no solvents or other waste. This is practically impossible, but it serves as a useful benchmark.\n",
    "\n",
    "### Formula\n",
    "$$\\text{PMI} = \\frac{\\text{Total Mass of All Inputs (kg)}}{\\text{Mass of Product (kg)}}$$"
   ]
  },
  {
   "cell_type": "markdown",
   "metadata": {},
   "source": [
    "### How is PMI different from E-Factor?\n",
    "\n",
    "They are closely related! They both measure waste, but from different perspectives.\n",
    "\n",
    "-   **PMI** focuses on the **inputs**. It asks: \"How much stuff did I use to make my product?\"\n",
    "-   **E-Factor** focuses on the **outputs**. It asks: \"How much waste did I make?\"\n",
    "\n",
    "The relationship is simple: **PMI = E-Factor + 1**\n",
    "\n",
    "PMI is often preferred in an industrial setting because it's easier to track the mass of materials purchased and brought into a factory than it is to precisely measure all waste streams leaving it."
   ]
  },
  {
   "cell_type": "markdown",
   "metadata": {},
   "source": [
    "### Example: A Pharmaceutical Intermediate Synthesis\n",
    "\n",
    "This example models a more industrial-style process, where detailed tracking of all materials is crucial. We define the mass for every single component used in the reaction, workup, and final purification (crystallization).\n",
    "\n",
    "* **Inputs:** A Python dictionary, `inputs`, is used to store the name and mass (in kg) of every material used in the process.\n",
    "* **Output:** The `final_product_mass` variable holds the mass of the isolated product.\n",
    "\n",
    "### Code Explanation\n",
    "\n",
    "The `calculate_pmi` function is designed to provide a detailed breakdown of material usage:\n",
    "\n",
    "1.  **Total Mass Calculation:** It first calculates the `total_input_mass` by summing all values in the `inputs` dictionary.\n",
    "2.  **PMI and E-Factor:** It computes both the PMI and the related E-Factor.\n",
    "3.  **Detailed Breakdown:** A key feature of the function is that it loops through the `inputs` dictionary to print each material's mass alongside its **percentage contribution** to the total mass. This immediately highlights which materials are the most significant drivers of the process's overall mass intensity."
   ]
  },
  {
   "cell_type": "code",
   "execution_count": 1,
   "metadata": {},
   "outputs": [
    {
     "name": "stdout",
     "output_type": "stream",
     "text": [
      "--- Process Mass Intensity (PMI) Calculation ---\n",
      "Mass of Isolated Product: 18.500 kg\n",
      "\n",
      "--- Input Materials Breakdown ---\n",
      "  - Starting Material A :  10.000 kg (2.0% of total input)\n",
      "  - Reagent B           :  12.500 kg (2.5% of total input)\n",
      "  - Catalyst            :   0.100 kg (0.0% of total input)\n",
      "  - Toluene (Solvent)   : 150.000 kg (29.6% of total input)\n",
      "  - HCl (Workup)        :  25.000 kg (4.9% of total input)\n",
      "  - Water (Workup)      : 200.000 kg (39.4% of total input)\n",
      "  - Sodium Bicarbonate  :  30.000 kg (5.9% of total input)\n",
      "  - Heptane (Crystallization):  80.000 kg (15.8% of total input)\n",
      "----------------------------------------\n",
      "Total Mass of All Inputs: 507.600 kg\n",
      "\n",
      "========================================\n",
      "Process Mass Intensity (PMI): 27.44\n",
      "(Related E-Factor: 26.44)\n",
      "========================================\n",
      "\n",
      "Interpretation: 27.44 kg of material were used for every 1 kg of product made.\n"
     ]
    }
   ],
   "source": [
    "def calculate_pmi(product_mass: float, input_materials: dict):\n",
    "    \"\"\"\n",
    "    Calculates the Process Mass Intensity (PMI) for a chemical process.\n",
    "    \n",
    "    Args:\n",
    "        product_mass (float): The actual isolated mass of the desired product (in kg).\n",
    "        input_materials (dict): A dictionary where keys are material names and values are their masses (in kg).\n",
    "    \n",
    "    Returns:\n",
    "        None. Prints the results directly.\n",
    "    \"\"\"\n",
    "    if product_mass <= 0:\n",
    "        print(\"Error: Product mass must be greater than zero.\")\n",
    "        return\n",
    "\n",
    "    total_input_mass = sum(input_materials.values())\n",
    "    pmi = total_input_mass / product_mass\n",
    "    e_factor = pmi - 1\n",
    "\n",
    "    # --- Display Results ---\n",
    "    print(\"--- Process Mass Intensity (PMI) Calculation ---\")\n",
    "    print(f\"Mass of Isolated Product: {product_mass:.3f} kg\")\n",
    "    print(\"\\n--- Input Materials Breakdown ---\")\n",
    "    for material, mass in input_materials.items():\n",
    "        percentage = (mass / total_input_mass) * 100\n",
    "        print(f\"  - {material:<20}: {mass:>7.3f} kg ({percentage:.1f}% of total input)\")\n",
    "    \n",
    "    print(\"-\" * 40)\n",
    "    print(f\"Total Mass of All Inputs: {total_input_mass:.3f} kg\")\n",
    "    print(\"\\n\" + \"=\"*40)\n",
    "    print(f\"Process Mass Intensity (PMI): {pmi:.2f}\")\n",
    "    print(f\"(Related E-Factor: {e_factor:.2f})\")\n",
    "    print(\"=\"*40)\n",
    "    print(f\"\\nInterpretation: {pmi:.2f} kg of material were used for every 1 kg of product made.\")\n",
    "\n",
    "# --- Example: A multi-step process for a pharmaceutical intermediate ---\n",
    "# All masses are in kg.\n",
    "\n",
    "inputs = {\n",
    "    \"Starting Material A\": 10.0,\n",
    "    \"Reagent B\": 12.5,\n",
    "    \"Catalyst\": 0.1,\n",
    "    \"Toluene (Solvent)\": 150.0,\n",
    "    \"HCl (Workup)\": 25.0,\n",
    "    \"Water (Workup)\": 200.0,\n",
    "    \"Sodium Bicarbonate\": 30.0,\n",
    "    \"Heptane (Crystallization)\": 80.0\n",
    "}\n",
    "\n",
    "# After the full process, we isolate 18.5 kg of the final product.\n",
    "final_product_mass = 18.5\n",
    "\n",
    "# Note: For this calculation, we are including water.\n",
    "calculate_pmi(product_mass=final_product_mass, input_materials=inputs)"
   ]
  },
  {
   "cell_type": "markdown",
   "metadata": {},
   "source": [
    "### Conclusion and Interpretation\n",
    "The calculated **Process Mass Intensity (PMI) of 27.44** provides a holistic view of the process's material efficiency and clearly demonstrates the value of systems thinking in green chemistry.\n",
    "\n",
    "1. **Identifying Mass Inefficiency**: A PMI of 27.44 reveals that for every 1 kg of final product, over 27 kg of materials were consumed. The value-added starting materials and reagents (Starting Material A and Reagent B) constitute only 4.5% of the total mass brought into the process.\n",
    "2. **Pinpointing the Source of Waste**: The input materials breakdown is the most powerful feature of the PMI analysis. It shows unequivocally that auxiliary materials are the primary drivers of inefficiency:\n",
    "- **Water (Workup)** is the single largest component at 39.4%.\n",
    "- **Solvents (Toluene and Heptane)** combined account for 45.4% of the total mass.\n",
    "- **Together**, water and organic solvents make up nearly 85% of the total process mass.\n",
    "\n",
    "**Final Takeaway**: This analysis perfectly illustrates why PMI is a critical metric for industrial green chemistry. While chemists often focus on optimizing reaction yield, the PMI calculation proves that the most significant environmental (and economic) gains are often achieved by focusing on the entire system. By targeting the massive solvent and water volumes used during reaction and purification, chemists and engineers can make a much larger impact on waste prevention than by simply increasing the reaction yield by a few percentage points."
   ]
  },
  {
   "cell_type": "code",
   "execution_count": null,
   "metadata": {},
   "outputs": [],
   "source": []
  }
 ],
 "metadata": {
  "kernelspec": {
   "display_name": "Python 3 (ipykernel)",
   "language": "python",
   "name": "python3"
  },
  "language_info": {
   "codemirror_mode": {
    "name": "ipython",
    "version": 3
   },
   "file_extension": ".py",
   "mimetype": "text/x-python",
   "name": "python",
   "nbconvert_exporter": "python",
   "pygments_lexer": "ipython3",
   "version": "3.9.12"
  }
 },
 "nbformat": 4,
 "nbformat_minor": 4
}
